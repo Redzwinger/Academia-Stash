{
  "cells": [
    {
      "cell_type": "code",
      "execution_count": 1,
      "metadata": {
        "id": "ti-SyVQzyAxx"
      },
      "outputs": [
        {
          "name": "stdout",
          "output_type": "stream",
          "text": [
            "\n",
            " ############# ################ ####################\n",
            "\n",
            " Name: Achintya Kamath \n",
            " Roll Number: R030 \n",
            " Program: MBA Tech Artificial Intelligence \n",
            " Subject: Natural Language Processing \n",
            " Lab 00 - File Handling and Regular Expressions \n",
            " Date: 20/07/2023\n",
            "\n",
            " ############# ################ ####################\n"
          ]
        }
      ],
      "source": [
        "'''\n",
        "Name: Achintya Kamath\n",
        "Roll Number: R030\n",
        "MBA Tech Artificial Intelligence\n",
        "Subject: Natural Language Processing\n",
        "Lab 00 - File Handling and Regular Expressions\n",
        "Date: 20/07/2023\n",
        "'''\n",
        "\n",
        "# Info about me and the practical\n",
        "print(\"\\n ############# ################ ####################\\n\")\n",
        "\n",
        "print(\" Name: Achintya Kamath \\n Roll Number: R030 \\n Program: MBA Tech Artificial Intelligence \\n Subject: Natural Language Processing \\n Lab 00 - File Handling and Regular Expressions \\n Date: 20/07/2023\")\n",
        "\n",
        "print(\"\\n ############# ################ ####################\")"
      ]
    },
    {
      "cell_type": "code",
      "execution_count": 2,
      "metadata": {
        "id": "E1Z7tUNMyUgZ"
      },
      "outputs": [],
      "source": [
        "# importing stuff\n",
        "from msilib import sequence\n",
        "import re"
      ]
    },
    {
      "cell_type": "code",
      "execution_count": 3,
      "metadata": {
        "id": "TzAlw73DyZU2"
      },
      "outputs": [
        {
          "name": "stdout",
          "output_type": "stream",
          "text": [
            "\n",
            " The first 5 characters of the text file 'Hello.txt' are:\n",
            " Hello\n"
          ]
        }
      ],
      "source": [
        "#File Handling\n",
        "#Task A\n",
        "\n",
        "#First 5 characters\n",
        "only_five_characters = open(\"Hello.txt\", \"r\")\n",
        "print(\"\\n The first 5 characters of the text file 'Hello.txt' are:\\n\", only_five_characters.read(5))\n",
        "\n",
        "only_five_characters.close()"
      ]
    },
    {
      "cell_type": "code",
      "execution_count": 4,
      "metadata": {
        "id": "Qhh5qwpkybtQ"
      },
      "outputs": [
        {
          "name": "stdout",
          "output_type": "stream",
          "text": [
            "\n",
            " Displaying the contents of 'Hello.txt' line by line:\n",
            "\n",
            "  Hello world\n",
            "  Hello Python\n",
            "  Good morning\n",
            "  How are you"
          ]
        }
      ],
      "source": [
        "#Line by Line\n",
        "line_by_line = open(\"Hello.txt\", \"r\")\n",
        "print(\"\\n Displaying the contents of 'Hello.txt' line by line:\\n\")\n",
        "\n",
        "for line in line_by_line:\n",
        "    print(\" \",line, end=\"\")\n",
        "\n",
        "line_by_line.close()"
      ]
    },
    {
      "cell_type": "code",
      "execution_count": 5,
      "metadata": {
        "id": "jZqwq3vAyfbk"
      },
      "outputs": [
        {
          "name": "stdout",
          "output_type": "stream",
          "text": [
            "\n",
            "\n",
            " All lines present in the text file 'Hello' are:\n",
            " ['Hello world\\n', 'Hello Python\\n', 'Good morning\\n', 'How are you']\n"
          ]
        }
      ],
      "source": [
        "#All Lines\n",
        "all_lines = open(\"Hello.txt\", \"r\")\n",
        "print(\"\\n\\n All lines present in the text file 'Hello' are:\\n\", all_lines.readlines())\n",
        "\n",
        "all_lines.close()"
      ]
    },
    {
      "cell_type": "code",
      "execution_count": 6,
      "metadata": {
        "id": "ZvUobJ_Jyh-Y"
      },
      "outputs": [
        {
          "name": "stdout",
          "output_type": "stream",
          "text": [
            "\n",
            " Displaying the second line from the text file 'Hello':\n",
            " Hello Python\n",
            "\n"
          ]
        }
      ],
      "source": [
        "#Specific Line\n",
        "specific_line = open(\"Hello.txt\", \"r\")\n",
        "print(\"\\n Displaying the second line from the text file 'Hello':\\n\", specific_line.readlines()[1])\n",
        "\n",
        "specific_line.close()"
      ]
    },
    {
      "cell_type": "code",
      "execution_count": 7,
      "metadata": {
        "id": "9jWx_R3nyj_N"
      },
      "outputs": [
        {
          "name": "stdout",
          "output_type": "stream",
          "text": [
            " Creating and writing a text file:\n",
            "  Hello World :D\n",
            "  Hello Python :)"
          ]
        }
      ],
      "source": [
        "#Task B\n",
        "\n",
        "#Creating a file then writing in it\n",
        "\n",
        "print(\" Creating and writing a text file:\")\n",
        "\n",
        "i_wrote_this_file = open(\"test.txt\", \"x\")\n",
        "i_wrote_this_file.write(\"Hello World :D\\nHello Python :)\")\n",
        "i_wrote_this_file.close()\n",
        "\n",
        "i_wrote_this_file = open(\"test.txt\", \"r\")\n",
        "for line in i_wrote_this_file:\n",
        "    print(\" \", line, end=\"\")\n",
        "i_wrote_this_file.close()"
      ]
    },
    {
      "cell_type": "code",
      "execution_count": 8,
      "metadata": {
        "id": "4a4vhIejylwu"
      },
      "outputs": [
        {
          "name": "stdout",
          "output_type": "stream",
          "text": [
            "\n",
            "\n",
            " Creating a text file containing a list of fruits:\n",
            " Apple\n",
            "  Apricot\n",
            "  Avocado\n",
            "  Banana\n",
            "  Bilberry\n",
            "  Blackberry\n",
            "  Blackcurrant\n",
            "  Blueberry\n",
            "  Boysenberry\n",
            "  Currant\n",
            "  Cherry\n",
            "  Cherimoya\n",
            "  Chico fruit\n",
            "  Cloudberry\n",
            "  Cranberry\n",
            "  Custard apple\n",
            "  Damson\n",
            "  Date\n",
            "  Dragonfruit\n",
            "  Durian\n",
            "  Elderberry\n",
            "  Feijoa\n",
            "  Fig\n",
            "  Goji berry\n",
            "  Gooseberry\n",
            "  Grape\n",
            "  Raisin\n",
            "  Grapefruit\n",
            "  Guava\n",
            "  Honeyberry\n",
            "  Huckleberry\n",
            "  Jabuticaba\n",
            "  Jackfruit\n",
            "  Jambul\n",
            "  Jujube\n",
            "  Juniper berry\n",
            "  Kiwano\n",
            "  Kiwifruit"
          ]
        }
      ],
      "source": [
        "#Writing a list of fruits in a .txt\n",
        "\n",
        "print(\"\\n\\n Creating a text file containing a list of fruits:\")\n",
        "\n",
        "someones_fruit_list = open(\"fruits.txt\", \"x\")\n",
        "someones_fruit_list.write(\"Apple\\n Apricot\\n Avocado\\n Banana\\n Bilberry\\n Blackberry\\n Blackcurrant\\n Blueberry\\n Boysenberry\\n Currant\\n Cherry\\n Cherimoya\\n Chico fruit\\n Cloudberry\\n Cranberry\\n Custard apple\\n Damson\\n Date\\n Dragonfruit\\n Durian\\n Elderberry\\n Feijoa\\n Fig\\n Goji berry\\n Gooseberry\\n Grape\\n Raisin\\n Grapefruit\\n Guava\\n Honeyberry\\n Huckleberry\\n Jabuticaba\\n Jackfruit\\n Jambul\\n Jujube\\n Juniper berry\\n Kiwano\\n Kiwifruit\")\n",
        "someones_fruit_list.close()\n",
        "\n",
        "someones_fruit_list = open(\"fruits.txt\", \"r\")\n",
        "for fruit in someones_fruit_list:\n",
        "    print(\"\", fruit, end=\"\")\n",
        "someones_fruit_list.close()"
      ]
    },
    {
      "cell_type": "code",
      "execution_count": 9,
      "metadata": {
        "id": "1ct1_azZynox"
      },
      "outputs": [
        {
          "name": "stdout",
          "output_type": "stream",
          "text": [
            "\n",
            "\n",
            " Reading a resume:\n",
            "  Resume\n",
            "  Name: Abc\n",
            "  Age: 25yrs\n",
            "  Qualification: Masters\n",
            "  Degree: Engineering"
          ]
        }
      ],
      "source": [
        "#Task C\n",
        "\n",
        "#Read Resume\n",
        "\n",
        "print(\"\\n\\n Reading a resume:\")\n",
        "resume_reader = open(\"Biodata.txt\", \"r\")\n",
        "for details in resume_reader:\n",
        "    print(\" \", details, end=\"\")\n",
        "resume_reader.close()"
      ]
    },
    {
      "cell_type": "code",
      "execution_count": 10,
      "metadata": {
        "id": "Lq_cQ-XryoLB"
      },
      "outputs": [
        {
          "name": "stdout",
          "output_type": "stream",
          "text": [
            "\n",
            "\n",
            " Searching for a sequence that starts with 'he' followed by two characters and an 'o':\n",
            " ['hello wo']\n"
          ]
        }
      ],
      "source": [
        "#Regular Expression\n",
        "#Task A\n",
        "\n",
        "#Searching Sequence\n",
        "text = \"hello world\"\n",
        "sequence_searcher = re.findall(r\"he.....o\",text)\n",
        "print(\"\\n\\n Searching for a sequence that starts with 'he' followed by two characters and an 'o':\\n\", sequence_searcher)"
      ]
    },
    {
      "cell_type": "code",
      "execution_count": 11,
      "metadata": {
        "id": "H8SOK9xeysil"
      },
      "outputs": [
        {
          "name": "stdout",
          "output_type": "stream",
          "text": [
            "\n",
            " Searching for 'The': <re.Match object; span=(0, 3), match='The'> \n",
            " Searching for 'Spain': <re.Match object; span=(12, 17), match='Spain'> \n",
            " Searching for 'The Spain': None\n"
          ]
        }
      ],
      "source": [
        "#Task B\n",
        "\n",
        "#Searching String\n",
        "spanish_inquistion = \"The rain in Spain\"\n",
        "the = re.search(r\"\\AThe\",spanish_inquistion)\n",
        "spain = re.search(r\"Spain\\Z\",spanish_inquistion)\n",
        "the_spain = re.search(r\"^The Spain$\",spanish_inquistion)\n",
        "\n",
        "print(\"\\n Searching for 'The':\", the,\"\\n Searching for 'Spain':\", spain, \"\\n Searching for 'The Spain':\", the_spain)"
      ]
    },
    {
      "cell_type": "code",
      "execution_count": 12,
      "metadata": {
        "id": "1_3eTdFEyud-"
      },
      "outputs": [
        {
          "name": "stdout",
          "output_type": "stream",
          "text": [
            "\n",
            " Upper Lettered Words:\n",
            "  None \n",
            " None\n"
          ]
        }
      ],
      "source": [
        "#Task C\n",
        "\n",
        "#Finding Lower and Upper Case Characters\n",
        "upper_spain = re.search('[A-M]+$',spanish_inquistion)\n",
        "lower_spain = re.search('[a-m]+$',spanish_inquistion)\n",
        "\n",
        "print(\"\\n Upper Lettered Words:\\n \", upper_spain, \"\\n\", lower_spain)"
      ]
    },
    {
      "cell_type": "code",
      "execution_count": 13,
      "metadata": {
        "id": "1C8A2YEmyyEM"
      },
      "outputs": [
        {
          "name": "stdout",
          "output_type": "stream",
          "text": [
            "\n",
            " First Whitespace:\n",
            "  The\n"
          ]
        }
      ],
      "source": [
        "#Task D\n",
        "#Searching for first whitespace character\n",
        "print(\"\\n First Whitespace:\\n \", (spanish_inquistion.split(\" \"))[0])"
      ]
    },
    {
      "cell_type": "code",
      "execution_count": 14,
      "metadata": {
        "id": "uoZPKmj_yyjQ"
      },
      "outputs": [
        {
          "name": "stdout",
          "output_type": "stream",
          "text": [
            "\n",
            " Replacing whitespace with '9':\n",
            "  The9rain9in9Spain\n"
          ]
        }
      ],
      "source": [
        "#Task E\n",
        "#Replacing whitespace with '9'\n",
        "print(\"\\n Replacing whitespace with '9':\\n \", \"9\".join(spanish_inquistion.split(\" \")))"
      ]
    },
    {
      "cell_type": "code",
      "execution_count": 15,
      "metadata": {
        "id": "6-CBv2Dqy00p"
      },
      "outputs": [
        {
          "name": "stdout",
          "output_type": "stream",
          "text": [
            "\n",
            " Email is Valid.\n"
          ]
        }
      ],
      "source": [
        "#Task F\n",
        "#Checking if email ID is vaild\n",
        "\n",
        "email = input(\"\\n Please enter your email address:\")\n",
        "check = [['gmail',\"com\"],['yahoo',\"co\",\"in\"],[\"hotmail\",\"com\"]]\n",
        "to_be_checked = ((email.split(\"@\"))[1]).split(\".\")\n",
        "\n",
        "if to_be_checked in check:\n",
        "    print(\"\\n Email is Valid.\")\n",
        "\n",
        "else:\n",
        "    print(\"\\n Email is Invalid.\")"
      ]
    }
  ],
  "metadata": {
    "colab": {
      "provenance": []
    },
    "kernelspec": {
      "display_name": "Python 3",
      "name": "python3"
    },
    "language_info": {
      "codemirror_mode": {
        "name": "ipython",
        "version": 3
      },
      "file_extension": ".py",
      "mimetype": "text/x-python",
      "name": "python",
      "nbconvert_exporter": "python",
      "pygments_lexer": "ipython3",
      "version": "3.10.5"
    }
  },
  "nbformat": 4,
  "nbformat_minor": 0
}
