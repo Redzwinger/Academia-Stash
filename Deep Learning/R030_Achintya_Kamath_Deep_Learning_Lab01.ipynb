{
  "cells": [
    {
      "cell_type": "markdown",
      "metadata": {
        "id": "BTPM2rYdZtCv"
      },
      "source": [
        "---\n",
        "\n",
        "*Name: Achintya Kamath*\n",
        "\n",
        "*Roll Number: R030*\n",
        "\n",
        "*MBA Tech Artificial Intelligence*\n",
        "\n",
        "*Subject: Deep Learning*\n",
        "\n",
        "*Lab 01 - Tensorflow 2.0 [Basics]*\n",
        "\n",
        "*Date: 19-07-2023*\n",
        "\n",
        "---"
      ]
    },
    {
      "cell_type": "code",
      "execution_count": 90,
      "metadata": {
        "colab": {
          "base_uri": "https://localhost:8080/",
          "height": 35
        },
        "id": "O_0TUxIIlKSO",
        "outputId": "2ef99198-5ddf-4060-8e1f-5538a90394b4"
      },
      "outputs": [
        {
          "data": {
            "text/plain": [
              "'\\nName: Achintya Kamath\\nRoll Number: R030\\nMBA Tech Artificial Intelligence\\nSubject: Deep Learning\\nLab 01 - Tensorflow 2.0 [Basics]\\nDate: 19-07-2023\\n'"
            ]
          },
          "execution_count": 90,
          "metadata": {},
          "output_type": "execute_result"
        }
      ],
      "source": [
        "'''\n",
        "Name: Achintya Kamath\n",
        "Roll Number: R030\n",
        "MBA Tech Artificial Intelligence\n",
        "Subject: Deep Learning\n",
        "Lab 01 - Tensorflow 2.0 [Basics]\n",
        "Date: 19-07-2023\n",
        "'''"
      ]
    },
    {
      "cell_type": "markdown",
      "metadata": {
        "id": "lopU2ItI2AbC"
      },
      "source": [
        "# ***TASK 1***\n",
        "\n",
        "*Perform basic operations using Tensorflow*\n",
        "\n",
        "*(Defining constants, variables, concatenation, add, multiply, reduce mean, reduce sum)*"
      ]
    },
    {
      "cell_type": "code",
      "execution_count": 91,
      "metadata": {
        "colab": {
          "base_uri": "https://localhost:8080/"
        },
        "id": "uQwpSmXYls92",
        "outputId": "58b87c10-4d55-4c9b-f5b7-afe80792f69c"
      },
      "outputs": [
        {
          "name": "stdout",
          "output_type": "stream",
          "text": [
            "This program utilises Tensorflow verison 2.13.0  \n"
          ]
        }
      ],
      "source": [
        "import tensorflow as tf\n",
        "import numpy as np\n",
        "print(\"This program utilises Tensorflow verison\", tf.__version__, \" \")"
      ]
    },
    {
      "cell_type": "code",
      "execution_count": 92,
      "metadata": {
        "id": "DrlNf06Up-dn"
      },
      "outputs": [],
      "source": [
        "#Constants"
      ]
    },
    {
      "cell_type": "code",
      "execution_count": 93,
      "metadata": {
        "colab": {
          "base_uri": "https://localhost:8080/"
        },
        "id": "himSM0gYoAUo",
        "outputId": "16b775c4-d88e-475e-b243-88b5e356e854"
      },
      "outputs": [
        {
          "name": "stdout",
          "output_type": "stream",
          "text": [
            "tf.Tensor(\n",
            "[[7 8 3]\n",
            " [5 9 1]], shape=(2, 3), dtype=int32)\n"
          ]
        }
      ],
      "source": [
        "const = tf.constant([[7,8,3], [5,9,1]])\n",
        "print(const)"
      ]
    },
    {
      "cell_type": "code",
      "execution_count": 94,
      "metadata": {
        "colab": {
          "base_uri": "https://localhost:8080/"
        },
        "id": "tHkAH7jSpXV2",
        "outputId": "a72f7198-89eb-4abd-a2dc-849aa4bfc7eb"
      },
      "outputs": [
        {
          "name": "stdout",
          "output_type": "stream",
          "text": [
            "(2, 3)\n"
          ]
        }
      ],
      "source": [
        "print(const.shape)"
      ]
    },
    {
      "cell_type": "code",
      "execution_count": 95,
      "metadata": {
        "colab": {
          "base_uri": "https://localhost:8080/"
        },
        "id": "g99ANF1lpaRW",
        "outputId": "f53a93af-6e0c-40b5-d1fb-63e3fe51828e"
      },
      "outputs": [
        {
          "name": "stdout",
          "output_type": "stream",
          "text": [
            "<dtype: 'int32'>\n"
          ]
        }
      ],
      "source": [
        "print(const.dtype)"
      ]
    },
    {
      "cell_type": "code",
      "execution_count": 96,
      "metadata": {
        "colab": {
          "base_uri": "https://localhost:8080/"
        },
        "id": "NJ0Xgyhwpevu",
        "outputId": "83779adc-8c66-4b84-ec75-6a84e46ef214"
      },
      "outputs": [
        {
          "name": "stdout",
          "output_type": "stream",
          "text": [
            "[[7 8 3]\n",
            " [5 9 1]]\n"
          ]
        }
      ],
      "source": [
        "print(const.numpy())"
      ]
    },
    {
      "cell_type": "code",
      "execution_count": 97,
      "metadata": {
        "id": "3cWXgWhwqCeo"
      },
      "outputs": [],
      "source": [
        "#Variables"
      ]
    },
    {
      "cell_type": "code",
      "execution_count": 98,
      "metadata": {
        "colab": {
          "base_uri": "https://localhost:8080/"
        },
        "id": "G96mcwTyqE2k",
        "outputId": "b504b089-c1e4-4c90-e91a-aed06154f21e"
      },
      "outputs": [
        {
          "data": {
            "text/plain": [
              "<tf.Variable 'UnreadVariable' shape=(3,) dtype=float32, numpy=array([1., 5., 6.], dtype=float32)>"
            ]
          },
          "execution_count": 98,
          "metadata": {},
          "output_type": "execute_result"
        }
      ],
      "source": [
        "varb = tf.Variable([0.0, 0.0, 0.0])\n",
        "varb.assign([1,5,6])"
      ]
    },
    {
      "cell_type": "code",
      "execution_count": 99,
      "metadata": {
        "colab": {
          "base_uri": "https://localhost:8080/"
        },
        "id": "EZoaOAayqpvn",
        "outputId": "dfa2f0c4-19e2-4f52-8efb-2e14ce82091d"
      },
      "outputs": [
        {
          "name": "stdout",
          "output_type": "stream",
          "text": [
            "<tf.Variable 'Variable:0' shape=(3,) dtype=float32, numpy=array([1., 5., 6.], dtype=float32)>\n"
          ]
        }
      ],
      "source": [
        "print(varb)"
      ]
    },
    {
      "cell_type": "code",
      "execution_count": 100,
      "metadata": {
        "colab": {
          "base_uri": "https://localhost:8080/"
        },
        "id": "uzpZ-3NVrEHs",
        "outputId": "680dcad0-cb18-44b0-8ebf-72dacc0fcb7e"
      },
      "outputs": [
        {
          "name": "stdout",
          "output_type": "stream",
          "text": [
            "[1. 5. 6.]\n"
          ]
        }
      ],
      "source": [
        "print(varb.numpy())"
      ]
    },
    {
      "cell_type": "code",
      "execution_count": 101,
      "metadata": {
        "colab": {
          "base_uri": "https://localhost:8080/"
        },
        "id": "OPDiHFHfqw_a",
        "outputId": "e4b334b3-e0eb-4891-d239-d20d27e76a04"
      },
      "outputs": [
        {
          "name": "stdout",
          "output_type": "stream",
          "text": [
            "[2. 6. 7.]\n"
          ]
        }
      ],
      "source": [
        "varb.assign_add([1,1,1])\n",
        "print(varb.numpy())"
      ]
    },
    {
      "cell_type": "code",
      "execution_count": 102,
      "metadata": {
        "id": "l7w6hTzlrfJe"
      },
      "outputs": [],
      "source": [
        "#Concatenation (columns and rows)"
      ]
    },
    {
      "cell_type": "code",
      "execution_count": 103,
      "metadata": {
        "id": "XKxrERgBrk4F"
      },
      "outputs": [],
      "source": [
        "A = tf.constant([[3,4,5], [1,2,3]])\n",
        "B = tf.Variable([[1,1,1], [2,3,4]])"
      ]
    },
    {
      "cell_type": "code",
      "execution_count": 104,
      "metadata": {
        "colab": {
          "base_uri": "https://localhost:8080/"
        },
        "id": "Efrt3mnJsN18",
        "outputId": "297f98cb-a486-4786-8767-08a007a7c126"
      },
      "outputs": [
        {
          "name": "stdout",
          "output_type": "stream",
          "text": [
            "[[3 4 5 1 1 1]\n",
            " [1 2 3 2 3 4]]\n"
          ]
        }
      ],
      "source": [
        "AB_concat_col = tf.concat([A,B], axis=1)\n",
        "print(AB_concat_col.numpy())"
      ]
    },
    {
      "cell_type": "code",
      "execution_count": 105,
      "metadata": {
        "colab": {
          "base_uri": "https://localhost:8080/"
        },
        "id": "VKQB5euVsWe0",
        "outputId": "0cc9644c-afd5-4f11-c33d-822cbe65abe1"
      },
      "outputs": [
        {
          "name": "stdout",
          "output_type": "stream",
          "text": [
            "[[3 4 5]\n",
            " [1 2 3]\n",
            " [1 1 1]\n",
            " [2 3 4]]\n"
          ]
        }
      ],
      "source": [
        "AB_concat_row = tf.concat([A,B], axis=0)\n",
        "print(AB_concat_row.numpy())"
      ]
    },
    {
      "cell_type": "code",
      "execution_count": 106,
      "metadata": {
        "colab": {
          "base_uri": "https://localhost:8080/"
        },
        "id": "rRFWNzjDsnaW",
        "outputId": "d0255ec2-b131-4cbf-8046-b091f1940e43"
      },
      "outputs": [
        {
          "name": "stdout",
          "output_type": "stream",
          "text": [
            "[[3 4 5 1 2 3 1 1 1 2 3 4]]\n"
          ]
        }
      ],
      "source": [
        "reshaped_concat = tf.reshape(AB_concat_row, shape = [1,12])\n",
        "print(reshaped_concat.numpy())"
      ]
    },
    {
      "cell_type": "code",
      "execution_count": 107,
      "metadata": {
        "id": "Oi3yBg8fsxO_"
      },
      "outputs": [],
      "source": [
        "#Addition"
      ]
    },
    {
      "cell_type": "code",
      "execution_count": 108,
      "metadata": {
        "id": "fR8lcjINuhtE"
      },
      "outputs": [],
      "source": [
        "A = tf.constant([[3,4,5], [1,2,3]])\n",
        "B = tf.constant([[1,1,1], [2,3,4]])\n",
        "C = tf.constant([[5,1,5], [2,2,3]])"
      ]
    },
    {
      "cell_type": "code",
      "execution_count": 109,
      "metadata": {
        "colab": {
          "base_uri": "https://localhost:8080/"
        },
        "id": "BW2NGYBhvDze",
        "outputId": "e8e5f3e0-23a9-4723-ae89-7eaf18fcd3ae"
      },
      "outputs": [
        {
          "name": "stdout",
          "output_type": "stream",
          "text": [
            "[[3 4 5]\n",
            " [1 2 3]]\n",
            "\n",
            " [[1 1 1]\n",
            " [2 3 4]]\n"
          ]
        }
      ],
      "source": [
        "print(A.numpy())\n",
        "print(\"\\n\", B.numpy())"
      ]
    },
    {
      "cell_type": "code",
      "execution_count": 110,
      "metadata": {
        "colab": {
          "base_uri": "https://localhost:8080/"
        },
        "id": "N5aGk2pKu3A_",
        "outputId": "bbdce9e2-6930-411f-abdd-2ca5ccdf4f67"
      },
      "outputs": [
        {
          "name": "stdout",
          "output_type": "stream",
          "text": [
            "[[4 5 6]\n",
            " [3 5 7]]\n"
          ]
        }
      ],
      "source": [
        "A_plus_B = tf.add(A,B)\n",
        "print(A_plus_B.numpy())"
      ]
    },
    {
      "cell_type": "code",
      "execution_count": 111,
      "metadata": {
        "colab": {
          "base_uri": "https://localhost:8080/"
        },
        "id": "3vAMD7FDvqB_",
        "outputId": "884d43e3-6fa9-483b-8472-7fafda32bd6b"
      },
      "outputs": [
        {
          "name": "stdout",
          "output_type": "stream",
          "text": [
            "[[5 1 5]\n",
            " [2 2 3]]\n"
          ]
        }
      ],
      "source": [
        "print(C.numpy())"
      ]
    },
    {
      "cell_type": "code",
      "execution_count": 112,
      "metadata": {
        "colab": {
          "base_uri": "https://localhost:8080/"
        },
        "id": "TFuPD1hcvXVP",
        "outputId": "e6c6e870-e311-43f5-94ce-37341d39c2aa"
      },
      "outputs": [
        {
          "name": "stdout",
          "output_type": "stream",
          "text": [
            "[[ 9  6 11]\n",
            " [ 5  7 10]]\n"
          ]
        }
      ],
      "source": [
        "APB_plus_C = tf.add(A_plus_B, C)\n",
        "print(APB_plus_C.numpy())"
      ]
    },
    {
      "cell_type": "code",
      "execution_count": 113,
      "metadata": {
        "colab": {
          "base_uri": "https://localhost:8080/"
        },
        "id": "O0agKACNvvru",
        "outputId": "37f298f4-df0f-4c06-eeac-df82e0424d65"
      },
      "outputs": [
        {
          "name": "stdout",
          "output_type": "stream",
          "text": [
            "[[4 5 6]\n",
            " [3 5 7]]\n"
          ]
        }
      ],
      "source": [
        "variation_APBPC = tf.add(A, B, C)\n",
        "print(variation_APBPC.numpy())"
      ]
    },
    {
      "cell_type": "code",
      "execution_count": 114,
      "metadata": {
        "id": "xOClDuGKwcYn"
      },
      "outputs": [],
      "source": [
        "#Multiplication"
      ]
    },
    {
      "cell_type": "code",
      "execution_count": 115,
      "metadata": {
        "colab": {
          "base_uri": "https://localhost:8080/"
        },
        "id": "7NsCXBWpwfdK",
        "outputId": "ffbfe676-d761-4423-d553-3e9539012a15"
      },
      "outputs": [
        {
          "name": "stdout",
          "output_type": "stream",
          "text": [
            "[[3 4 5]\n",
            " [1 2 3]] \n",
            "\n",
            " [[1 1 1]\n",
            " [2 3 4]] \n",
            "\n",
            "[[ 3  4  5]\n",
            " [ 2  6 12]]\n"
          ]
        }
      ],
      "source": [
        "A_multi_B = tf.multiply(A,B)\n",
        "print(A.numpy(), \"\\n\\n\", B.numpy(), '\\n')\n",
        "print(A_multi_B.numpy())"
      ]
    },
    {
      "cell_type": "code",
      "execution_count": 116,
      "metadata": {
        "colab": {
          "base_uri": "https://localhost:8080/"
        },
        "id": "5SJHMm7uxvx8",
        "outputId": "4cfa1e6e-dea2-4780-a383-68703ca8e9a7"
      },
      "outputs": [
        {
          "name": "stdout",
          "output_type": "stream",
          "text": [
            "[[5 1 5]\n",
            " [2 2 3]] \n",
            "\n",
            "[[15  4 25]\n",
            " [ 4 12 36]]\n"
          ]
        }
      ],
      "source": [
        "AMB_multi_C = tf.multiply(A_multi_B,C)\n",
        "print(C.numpy(), '\\n')\n",
        "print(AMB_multi_C.numpy())"
      ]
    },
    {
      "cell_type": "code",
      "execution_count": 117,
      "metadata": {
        "id": "sRP4LXb7yDTY"
      },
      "outputs": [],
      "source": [
        "#Reducing Mean"
      ]
    },
    {
      "cell_type": "code",
      "execution_count": 118,
      "metadata": {
        "colab": {
          "base_uri": "https://localhost:8080/"
        },
        "id": "qX6D_uvDyydP",
        "outputId": "0e8de1a3-d3e8-4dfb-e992-3560ad7da4bb"
      },
      "outputs": [
        {
          "name": "stdout",
          "output_type": "stream",
          "text": [
            "[[1.55 2.54 8.35 9.25]\n",
            " [1.   2.   8.95 4.  ]]\n"
          ]
        }
      ],
      "source": [
        "G = tf.constant([[1.55, 2.54, 8.35, 9.25], [1.00, 2.00, 8.95, 4.00]])\n",
        "print(G.numpy())"
      ]
    },
    {
      "cell_type": "code",
      "execution_count": 119,
      "metadata": {
        "colab": {
          "base_uri": "https://localhost:8080/"
        },
        "id": "6k3hAoSr0CW4",
        "outputId": "c88dde0d-8b61-4bac-e298-37c8f69ffef5"
      },
      "outputs": [
        {
          "name": "stdout",
          "output_type": "stream",
          "text": [
            "[1.275 2.27  8.65  6.625]\n"
          ]
        }
      ],
      "source": [
        "reduced_G = tf.reduce_mean(G, 0)\n",
        "print(reduced_G.numpy())"
      ]
    },
    {
      "cell_type": "code",
      "execution_count": 120,
      "metadata": {
        "id": "gX9ebLSA0QPn"
      },
      "outputs": [],
      "source": [
        "#Reducing Sum"
      ]
    },
    {
      "cell_type": "code",
      "execution_count": 121,
      "metadata": {
        "id": "KqwQ9tTJ0a9R"
      },
      "outputs": [],
      "source": [
        "S = tf.constant([[5.55, 3.54, 7.35, 9.25], [5.00, 6.00, 8.95, 4.00]])\n",
        "SS = tf.constant([[1.55, 2.54, 8.35, 9.25], [1.00, 2.00, 8.95, 4.00]])"
      ]
    },
    {
      "cell_type": "code",
      "execution_count": 122,
      "metadata": {
        "colab": {
          "base_uri": "https://localhost:8080/"
        },
        "id": "90YA4bgf0rLH",
        "outputId": "36ae95b6-f792-43e6-9890-6cccbf900d9b"
      },
      "outputs": [
        {
          "name": "stdout",
          "output_type": "stream",
          "text": [
            "[[5.55 3.54 7.35 9.25]\n",
            " [5.   6.   8.95 4.  ]]\n"
          ]
        }
      ],
      "source": [
        "print(S.numpy())"
      ]
    },
    {
      "cell_type": "code",
      "execution_count": 123,
      "metadata": {
        "colab": {
          "base_uri": "https://localhost:8080/"
        },
        "id": "gTfVghOx0t_I",
        "outputId": "397b4354-50d6-4a3c-9065-d84c40b5195c"
      },
      "outputs": [
        {
          "name": "stdout",
          "output_type": "stream",
          "text": [
            "[[1.55 2.54 8.35 9.25]\n",
            " [1.   2.   8.95 4.  ]]\n"
          ]
        }
      ],
      "source": [
        "print(SS.numpy())"
      ]
    },
    {
      "cell_type": "code",
      "execution_count": 124,
      "metadata": {
        "colab": {
          "base_uri": "https://localhost:8080/"
        },
        "id": "Y8lOD1aR1JCY",
        "outputId": "eee14c1c-2014-4b49-e481-65ed69cefb25"
      },
      "outputs": [
        {
          "name": "stdout",
          "output_type": "stream",
          "text": [
            "87.28\n"
          ]
        }
      ],
      "source": [
        "RS_3 = tf.reduce_sum([S, SS])\n",
        "print(RS_3.numpy())"
      ]
    },
    {
      "cell_type": "markdown",
      "metadata": {
        "id": "sC47bkoo2LNZ"
      },
      "source": [
        "# ***TASK 2***\n",
        "\n",
        "*Perform linear algebra operations using Tensorflow*\n",
        "\n",
        "*(Transpose of a matrix, matrix multiplication, element-wise multiplication, determinant of a matrix)*"
      ]
    },
    {
      "cell_type": "code",
      "execution_count": 125,
      "metadata": {
        "id": "ySL_4uI-2aKC"
      },
      "outputs": [],
      "source": [
        "#Transpose of a Matrix"
      ]
    },
    {
      "cell_type": "code",
      "execution_count": 126,
      "metadata": {
        "colab": {
          "base_uri": "https://localhost:8080/"
        },
        "id": "OI_84Q-H2M1h",
        "outputId": "6b5736e6-7153-46c8-93e2-960efba75c52"
      },
      "outputs": [
        {
          "name": "stdout",
          "output_type": "stream",
          "text": [
            "[[2 7]\n",
            " [5 9]]\n"
          ]
        }
      ],
      "source": [
        "a_const = tf.constant([[2,7], [5,9]])\n",
        "print(a_const.numpy())"
      ]
    },
    {
      "cell_type": "code",
      "execution_count": 127,
      "metadata": {
        "colab": {
          "base_uri": "https://localhost:8080/"
        },
        "id": "Gr7DA3r02dai",
        "outputId": "ca6a304d-34a7-4647-9238-00be14b4d905"
      },
      "outputs": [
        {
          "name": "stdout",
          "output_type": "stream",
          "text": [
            "[[2 5]\n",
            " [7 9]]\n"
          ]
        }
      ],
      "source": [
        "a_trans = tf.transpose(a_const)\n",
        "print(a_trans.numpy())"
      ]
    },
    {
      "cell_type": "code",
      "execution_count": 128,
      "metadata": {
        "id": "OJjl38IT3VnU"
      },
      "outputs": [],
      "source": [
        "#Matrix Multiplication"
      ]
    },
    {
      "cell_type": "code",
      "execution_count": 129,
      "metadata": {
        "colab": {
          "base_uri": "https://localhost:8080/"
        },
        "id": "NsJjI2aR2vCi",
        "outputId": "7b757039-c107-4306-dda6-e2f77180d4ce"
      },
      "outputs": [
        {
          "name": "stdout",
          "output_type": "stream",
          "text": [
            "[[3 8]\n",
            " [7 2]]\n"
          ]
        }
      ],
      "source": [
        "b_const = tf.constant([[3,8], [7,2]])\n",
        "print(b_const.numpy())"
      ]
    },
    {
      "cell_type": "code",
      "execution_count": 130,
      "metadata": {
        "colab": {
          "base_uri": "https://localhost:8080/"
        },
        "id": "k9ceYuGX3Uas",
        "outputId": "cdf78a30-3d40-4e4f-dc89-86d0e6ba121c"
      },
      "outputs": [
        {
          "name": "stdout",
          "output_type": "stream",
          "text": [
            "[[55 30]\n",
            " [78 58]]\n"
          ]
        }
      ],
      "source": [
        "a_mul_b = tf.matmul(a_const, b_const)\n",
        "print(a_mul_b.numpy())"
      ]
    },
    {
      "cell_type": "code",
      "execution_count": 131,
      "metadata": {
        "id": "HXxS9mJk4YKt"
      },
      "outputs": [],
      "source": [
        "#Element-Wise Multiplication"
      ]
    },
    {
      "cell_type": "code",
      "execution_count": 132,
      "metadata": {
        "colab": {
          "base_uri": "https://localhost:8080/"
        },
        "id": "qOzs0uDj4oi-",
        "outputId": "e8905cb2-d8e6-4218-b002-aa64b168dac0"
      },
      "outputs": [
        {
          "name": "stdout",
          "output_type": "stream",
          "text": [
            "[[10  6]]\n"
          ]
        }
      ],
      "source": [
        "b_const = tf.constant([[3,8], [7,2]])\n",
        "mu = tf.constant([[10,6]])\n",
        "print(mu.numpy())"
      ]
    },
    {
      "cell_type": "code",
      "execution_count": 133,
      "metadata": {
        "colab": {
          "base_uri": "https://localhost:8080/"
        },
        "id": "doThxPHS5Oz3",
        "outputId": "39af49be-079e-4aa2-83d8-ef33b32ad85f"
      },
      "outputs": [
        {
          "name": "stdout",
          "output_type": "stream",
          "text": [
            "[[30 48]\n",
            " [70 12]]\n"
          ]
        }
      ],
      "source": [
        "ele_mul = tf.multiply(b_const,mu)\n",
        "print(ele_mul.numpy())"
      ]
    },
    {
      "cell_type": "code",
      "execution_count": 134,
      "metadata": {
        "id": "6afezPT147TW"
      },
      "outputs": [],
      "source": [
        "#Determinant"
      ]
    },
    {
      "cell_type": "code",
      "execution_count": 135,
      "metadata": {
        "colab": {
          "base_uri": "https://localhost:8080/"
        },
        "id": "ga0kPa_84-4-",
        "outputId": "a8980fd4-9230-417a-b802-3b3af9f0fd62"
      },
      "outputs": [
        {
          "name": "stdout",
          "output_type": "stream",
          "text": [
            "-3000.0002\n"
          ]
        }
      ],
      "source": [
        "ele_mul = tf.cast(ele_mul, tf.float32)\n",
        "det = tf.linalg.det(ele_mul)\n",
        "print(det.numpy())"
      ]
    },
    {
      "cell_type": "markdown",
      "metadata": {
        "id": "5yiHqXNEczKY"
      },
      "source": [
        "# ***Task 3***\n",
        "\n",
        "*Perform derivative and higher order derivative for function,*\n",
        "\n",
        "*f(x) = x^3*\n",
        "\n",
        "*using gradient tape of Tensorflow*"
      ]
    },
    {
      "cell_type": "code",
      "execution_count": 136,
      "metadata": {
        "id": "QsH3-7f8dD6r"
      },
      "outputs": [],
      "source": [
        "#Obtaining derivative and higher order derivative"
      ]
    },
    {
      "cell_type": "code",
      "execution_count": 145,
      "metadata": {},
      "outputs": [
        {
          "name": "stdout",
          "output_type": "stream",
          "text": [
            "The Derivative is = 48.0\n",
            "The Higher Order Derivative is = 24.0\n"
          ]
        }
      ],
      "source": [
        "#using concept f(x) = x^3\n",
        "const_x = tf.constant(4.0)\n",
        "with tf.GradientTape() as tape:\n",
        "    tape.watch(const_x)\n",
        "    y = const_x**3\n",
        "\n",
        "grad = tape.gradient(y, const_x)\n",
        "print(\"The Derivative is =\", grad.numpy())\n",
        "\n",
        "#Going for higher order now...\n",
        "new_x = tf.Variable(4.0, trainable=True)\n",
        "with tf.GradientTape() as tapeOne:\n",
        "    with tf.GradientTape() as tapeTwo:\n",
        "        y = new_x**3\n",
        "        order = tapeTwo.gradient(y, new_x)  # First Order\n",
        "\n",
        "Higher_Order = tapeOne.gradient(order, new_x)  # Second Order\n",
        "print(\"The Higher Order Derivative is =\", Higher_Order.numpy())\n"
      ]
    },
    {
      "cell_type": "markdown",
      "metadata": {
        "id": "p1V7NCoo6CD0"
      },
      "source": [
        "# ***Task 4***\n",
        "\n",
        "*Compute WX+b using Tensorflow where W, X, and b are drawn from a random normal distribution.*\n",
        "\n",
        "*W is of shape (4, 3), X is (3,1) and b is (4,1)*"
      ]
    },
    {
      "cell_type": "code",
      "execution_count": 138,
      "metadata": {
        "id": "UbGeMvIM6FeO"
      },
      "outputs": [],
      "source": [
        "#Compute WX+b using Tensorflow where W, X, and b are drawn from a\n",
        "#random normal distribution. W is of shape (4, 3), X is (3,1) and b is (4,1)"
      ]
    },
    {
      "cell_type": "code",
      "execution_count": 139,
      "metadata": {
        "colab": {
          "base_uri": "https://localhost:8080/"
        },
        "id": "ShtAsPvG7q3i",
        "outputId": "3b8486c2-6421-44b7-82b8-13040a381d47"
      },
      "outputs": [
        {
          "name": "stdout",
          "output_type": "stream",
          "text": [
            "[[-0.82013122 -1.02223737 -0.41331467]\n",
            " [ 0.88650879 -0.33673666  0.45403992]\n",
            " [ 0.24943101 -1.11963644 -1.42534854]\n",
            " [-0.34615732 -0.22962514 -0.50532886]] \n",
            "\n",
            "[[ 0.66514611]\n",
            " [ 1.48351153]\n",
            " [-1.10451872]] \n",
            "\n",
            "[[ 0.40493862]\n",
            " [-0.47161172]\n",
            " [-0.0919803 ]\n",
            " [ 1.43485834]]\n"
          ]
        }
      ],
      "source": [
        "#Using np.random.randn to randomly assign constants\n",
        "\n",
        "w_mat = tf.constant(np.random.randn(4,3))\n",
        "x_mat = tf.constant(np.random.randn(3,1))\n",
        "b_mat = tf.constant(np.random.randn(4,1))\n",
        "\n",
        "print(w_mat.numpy(), \"\\n\")\n",
        "print(x_mat.numpy(), \"\\n\")\n",
        "print(b_mat.numpy())"
      ]
    },
    {
      "cell_type": "code",
      "execution_count": 140,
      "metadata": {
        "colab": {
          "base_uri": "https://localhost:8080/"
        },
        "id": "C6U-dfXO8ta4",
        "outputId": "a21ff504-bd67-4979-f953-8a813a959080"
      },
      "outputs": [
        {
          "name": "stdout",
          "output_type": "stream",
          "text": [
            "[[-1.60549423]\n",
            " [-0.41139044]\n",
            " [ 0.07923864]\n",
            " [-0.01275155]]\n"
          ]
        }
      ],
      "source": [
        "WX = tf.matmul(w_mat,x_mat)\n",
        "print(WX.numpy())"
      ]
    },
    {
      "cell_type": "code",
      "execution_count": 141,
      "metadata": {
        "colab": {
          "base_uri": "https://localhost:8080/"
        },
        "id": "ioQiik8M9dMj",
        "outputId": "b598d103-a2b5-48e3-8db8-a6b6e6e25fb1"
      },
      "outputs": [
        {
          "name": "stdout",
          "output_type": "stream",
          "text": [
            "[[-1.2005556 ]\n",
            " [-0.88300216]\n",
            " [-0.01274166]\n",
            " [ 1.42210679]]\n"
          ]
        }
      ],
      "source": [
        "WX_plus_b = tf.add(WX, b_mat)\n",
        "print(WX_plus_b.numpy())"
      ]
    },
    {
      "cell_type": "markdown",
      "metadata": {
        "id": "Jl5hMxMwdKgR"
      },
      "source": [
        "# ***Task 5***\n",
        "\n",
        "*Compute Gradient of sigmoid function using Tensor flow*"
      ]
    },
    {
      "cell_type": "code",
      "execution_count": 142,
      "metadata": {
        "id": "4b57fBh8dUMC"
      },
      "outputs": [
        {
          "name": "stdout",
          "output_type": "stream",
          "text": [
            "Gradient of the sigmoid 4.0  is  -0.01831564\n"
          ]
        }
      ],
      "source": [
        "#Formula: f(x) = 1/1+exp(-x)\n",
        "\n",
        "def sigma_gradient(someThing):\n",
        "    with tf.GradientTape() as tape_sig:\n",
        "        f = (1 / 1 + (tf.math.exp(-someThing)))\n",
        "    sigma_grad = tape_sig.gradient(f, someThing)\n",
        "    return sigma_grad.numpy()\n",
        "\n",
        "variable_but_constant = tf.Variable(4.0, trainable=True)\n",
        "\n",
        "print(\"Gradient of the sigmoid\", variable_but_constant.numpy(), \" is \", sigma_gradient(variable_but_constant))"
      ]
    },
    {
      "cell_type": "markdown",
      "metadata": {
        "id": "qmPT7ywFdfBO"
      },
      "source": [
        "# ***Task 6***\n",
        "\n",
        "*Identify two research paper based on deep learning.*\n",
        "\n",
        "*State for which application they have used deep learning.*\n",
        "\n",
        "*(Cite the papers)*"
      ]
    },
    {
      "cell_type": "markdown",
      "metadata": {},
      "source": [
        "***Research Paper 1:***\n",
        "*Smith, M. J., & Geach, J. E. (2023). Astronomia ex machina: a history, primer and outlook on neural networks in astronomy. Royal Society Open Science, 10(5), 221454.*\n",
        "\n",
        "***Research Paper 2:***\n",
        "*Ofman, L., Averbuch, A., Shliselberg, A., Benaun, I., Segev, D., & Rissman, A. (2022). Automated identification of transiting exoplanet candidates in NASA Transiting Exoplanets Survey Satellite (TESS) data with machine learning methods. New Astronomy, 91, 101693.*"
      ]
    }
  ],
  "metadata": {
    "colab": {
      "provenance": []
    },
    "kernelspec": {
      "display_name": "Python 3",
      "name": "python3"
    },
    "language_info": {
      "codemirror_mode": {
        "name": "ipython",
        "version": 3
      },
      "file_extension": ".py",
      "mimetype": "text/x-python",
      "name": "python",
      "nbconvert_exporter": "python",
      "pygments_lexer": "ipython3",
      "version": "3.10.5"
    }
  },
  "nbformat": 4,
  "nbformat_minor": 0
}
