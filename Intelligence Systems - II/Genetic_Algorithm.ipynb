{
  "nbformat": 4,
  "nbformat_minor": 0,
  "metadata": {
    "colab": {
      "provenance": []
    },
    "kernelspec": {
      "name": "python3",
      "display_name": "Python 3"
    },
    "language_info": {
      "name": "python"
    }
  },
  "cells": [
    {
      "cell_type": "code",
      "execution_count": 1,
      "metadata": {
        "id": "e4JqE6_GJejW"
      },
      "outputs": [],
      "source": [
        "import random\n",
        "\n",
        "# Function to generate initial population\n",
        "def generate_population(pop_size, chromosome_length):\n",
        "    population = []\n",
        "    for _ in range(pop_size):\n",
        "        chromosome = [random.randint(0, 1) for _ in range(chromosome_length)]\n",
        "        population.append(chromosome)\n",
        "    return population\n",
        "\n",
        ""
      ]
    },
    {
      "cell_type": "code",
      "source": [
        "# Fitness function (Example: Counting the number of ones in the chromosome)\n",
        "def fitness(chromosome):\n",
        "    return sum(chromosome)"
      ],
      "metadata": {
        "id": "B9WiZ_ByJj9C"
      },
      "execution_count": 2,
      "outputs": []
    },
    {
      "cell_type": "code",
      "source": [
        "# Function to perform selection (Tournament Selection)\n",
        "def tournament_selection(population, fitness_values, tournament_size):\n",
        "    selected_parents = []\n",
        "    for _ in range(len(population)):\n",
        "        tournament = random.sample(list(zip(population, fitness_values)), tournament_size)\n",
        "        winner = max(tournament, key=lambda x: x[1])[0]\n",
        "        selected_parents.append(winner)\n",
        "    return selected_parents"
      ],
      "metadata": {
        "id": "-Z1DkDV9JnDm"
      },
      "execution_count": 3,
      "outputs": []
    },
    {
      "cell_type": "code",
      "source": [
        "\n",
        "# Function to perform crossover (Single Point Crossover)\n",
        "def crossover(parent1, parent2):\n",
        "    crossover_point = random.randint(1, len(parent1) - 1)\n",
        "    child1 = parent1[:crossover_point] + parent2[crossover_point:]\n",
        "    child2 = parent2[:crossover_point] + parent1[crossover_point:]\n",
        "    return child1, child2"
      ],
      "metadata": {
        "id": "1cnsFSUgJyZm"
      },
      "execution_count": 4,
      "outputs": []
    },
    {
      "cell_type": "code",
      "source": [
        "# Function to perform mutation\n",
        "def mutate(chromosome, mutation_rate):\n",
        "    for i in range(len(chromosome)):\n",
        "        if random.random() < mutation_rate:\n",
        "            chromosome[i] = 1 - chromosome[i]  # Flip the bit\n",
        "    return chromosome"
      ],
      "metadata": {
        "id": "NHlNPW1wJ1j2"
      },
      "execution_count": 5,
      "outputs": []
    },
    {
      "cell_type": "code",
      "source": [
        "# Genetic Algorithm\n",
        "def genetic_algorithm(population_size, chromosome_length, generations, tournament_size, mutation_rate):\n",
        "    population = generate_population(population_size, chromosome_length)\n",
        "\n",
        "    for _ in range(generations):\n",
        "        # Evaluate fitness of each individual in the population\n",
        "        fitness_values = [fitness(chromosome) for chromosome in population]\n",
        "\n",
        "        # Select parents using tournament selection\n",
        "        selected_parents = tournament_selection(population, fitness_values, tournament_size)\n",
        "\n",
        "        # Create next generation through crossover and mutation\n",
        "        next_generation = []\n",
        "        while len(next_generation) < population_size:\n",
        "            parent1, parent2 = random.sample(selected_parents, 2)\n",
        "            child1, child2 = crossover(parent1, parent2)\n",
        "            child1 = mutate(child1, mutation_rate)\n",
        "            child2 = mutate(child2, mutation_rate)\n",
        "            next_generation.extend([child1, child2])\n",
        "\n",
        "        # Replace the old population with the new generation\n",
        "        population = next_generation[:population_size]\n",
        "\n",
        "    # Return the best individual\n",
        "    best_individual = max(population, key=fitness)\n",
        "    return best_individual"
      ],
      "metadata": {
        "id": "X5upHR9jKUOz"
      },
      "execution_count": 6,
      "outputs": []
    },
    {
      "cell_type": "code",
      "source": [
        "# Example usage\n",
        "population_size = 100\n",
        "chromosome_length = 10\n",
        "generations = 100\n",
        "tournament_size = 5\n",
        "mutation_rate = 0.01\n",
        "\n",
        "best_solution = genetic_algorithm(population_size, chromosome_length, generations, tournament_size, mutation_rate)\n",
        "print(\"Best solution found:\", best_solution)\n",
        "print(\"Fitness:\", fitness(best_solution))\n"
      ],
      "metadata": {
        "colab": {
          "base_uri": "https://localhost:8080/"
        },
        "id": "4KmervwGKXDZ",
        "outputId": "fc623ce4-97f1-45a0-a1ee-5c895a3a9c34"
      },
      "execution_count": 7,
      "outputs": [
        {
          "output_type": "stream",
          "name": "stdout",
          "text": [
            "Best solution found: [1, 1, 1, 1, 1, 1, 1, 1, 1, 1]\n",
            "Fitness: 10\n"
          ]
        }
      ]
    }
  ]
}